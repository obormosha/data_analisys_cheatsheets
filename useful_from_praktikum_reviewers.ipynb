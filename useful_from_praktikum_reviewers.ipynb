{
  "nbformat": 4,
  "nbformat_minor": 0,
  "metadata": {
    "colab": {
      "name": "useful_from_praktikum_reviewers.ipynb",
      "provenance": []
    },
    "kernelspec": {
      "name": "python3",
      "display_name": "Python 3"
    },
    "language_info": {
      "name": "python"
    }
  },
  "cells": [
    {
      "cell_type": "markdown",
      "metadata": {
        "id": "-5gGNU4BHxtG"
      },
      "source": [
        "## Оглавление"
      ]
    },
    {
      "cell_type": "markdown",
      "metadata": {
        "id": "K-mPXKxKH4DM"
      },
      "source": [
        "[1 Лайфхаки](#lifehacks)    \n",
        "[2 Визуализации](#visualization)      \n",
        "[3 Best practices](#best)    \n",
        "[4 Полезные ссылки](#refs)    \n",
        "[5 Книги](#books)"
      ]
    },
    {
      "cell_type": "code",
      "metadata": {
        "id": "OC_3UGJfJbci"
      },
      "source": [
        "import pandas as pd\n",
        "import matplotlib.pyplot as plt"
      ],
      "execution_count": 10,
      "outputs": []
    },
    {
      "cell_type": "markdown",
      "metadata": {
        "id": "8F8Ji-dSOi5X"
      },
      "source": [
        "<a id='advices'></a>\n",
        "## Быстрые советы"
      ]
    },
    {
      "cell_type": "markdown",
      "metadata": {
        "id": "DpOuAQsSOrYk"
      },
      "source": [
        "1. При любой категоризации данных важно смореть, какой объем данных попал в каждую категорию"
      ]
    },
    {
      "cell_type": "markdown",
      "metadata": {
        "id": "rU3wxrGyTC8v"
      },
      "source": [
        "2. Если делались преобразование данных, включение новых столбцов, то после этапа предобработки в конце шага можно вывести пару строк таблицы, чтобы читающие убедились в присутствии всех преобразований"
      ]
    },
    {
      "cell_type": "markdown",
      "metadata": {
        "id": "Mx9tN-bKW0io"
      },
      "source": [
        "3. Малую долю пропусков в реальной работе придется просто удалять, т.к. на ее обработку может не быть времени."
      ]
    },
    {
      "cell_type": "markdown",
      "metadata": {
        "id": "--zT0kpSISd0"
      },
      "source": [
        "<a id='lifehacks'></a>\n",
        "## Лайфхаки"
      ]
    },
    {
      "cell_type": "markdown",
      "metadata": {
        "id": "HcuWG4kRIgl3"
      },
      "source": [
        "1. Параметр --quiet в конце строки, чтобы не листать больших выводов о ходе установки. Пример:\n",
        "\n"
      ]
    },
    {
      "cell_type": "code",
      "metadata": {
        "id": "VJND4bAYHlXQ"
      },
      "source": [
        "!pip install folium --quiet"
      ],
      "execution_count": 3,
      "outputs": []
    },
    {
      "cell_type": "markdown",
      "metadata": {
        "id": "HE4w6ud2JAlO"
      },
      "source": [
        "2. Для определения нужных столбцов еще на этапе чтения файла (если ты их знаешь) можно использовать параметр usecols в pd.read_csv"
      ]
    },
    {
      "cell_type": "code",
      "metadata": {
        "colab": {
          "base_uri": "https://localhost:8080/",
          "height": 142
        },
        "id": "cRYZwRtrJCyK",
        "outputId": "ad742938-27a5-48d6-cbbf-60aea37f80e5"
      },
      "source": [
        "map_distr = pd.read_csv('https://raw.githubusercontent.com/hflabs/city/master/city.csv', usecols=['city', 'geo_lat', 'geo_lon'])\n",
        "map_distr.head(3)"
      ],
      "execution_count": 8,
      "outputs": [
        {
          "output_type": "execute_result",
          "data": {
            "text/html": [
              "<div>\n",
              "<style scoped>\n",
              "    .dataframe tbody tr th:only-of-type {\n",
              "        vertical-align: middle;\n",
              "    }\n",
              "\n",
              "    .dataframe tbody tr th {\n",
              "        vertical-align: top;\n",
              "    }\n",
              "\n",
              "    .dataframe thead th {\n",
              "        text-align: right;\n",
              "    }\n",
              "</style>\n",
              "<table border=\"1\" class=\"dataframe\">\n",
              "  <thead>\n",
              "    <tr style=\"text-align: right;\">\n",
              "      <th></th>\n",
              "      <th>city</th>\n",
              "      <th>geo_lat</th>\n",
              "      <th>geo_lon</th>\n",
              "    </tr>\n",
              "  </thead>\n",
              "  <tbody>\n",
              "    <tr>\n",
              "      <th>0</th>\n",
              "      <td>Адыгейск</td>\n",
              "      <td>44.878414</td>\n",
              "      <td>39.190289</td>\n",
              "    </tr>\n",
              "    <tr>\n",
              "      <th>1</th>\n",
              "      <td>Майкоп</td>\n",
              "      <td>44.609827</td>\n",
              "      <td>40.100661</td>\n",
              "    </tr>\n",
              "    <tr>\n",
              "      <th>2</th>\n",
              "      <td>Горно-Алтайск</td>\n",
              "      <td>51.958103</td>\n",
              "      <td>85.960324</td>\n",
              "    </tr>\n",
              "  </tbody>\n",
              "</table>\n",
              "</div>"
            ],
            "text/plain": [
              "            city    geo_lat    geo_lon\n",
              "0       Адыгейск  44.878414  39.190289\n",
              "1         Майкоп  44.609827  40.100661\n",
              "2  Горно-Алтайск  51.958103  85.960324"
            ]
          },
          "metadata": {
            "tags": []
          },
          "execution_count": 8
        }
      ]
    },
    {
      "cell_type": "markdown",
      "metadata": {
        "id": "6IwsEHFuKkL7"
      },
      "source": [
        "3. Для обзора датасета можно использовать различные методы и функции, чтобы как можно больше узнать о данных, например `head`, `tail`, `dtypes`, `info`, `describe`, `isna` и др"
      ]
    },
    {
      "cell_type": "markdown",
      "metadata": {
        "id": "cdR9wCmLLMwA"
      },
      "source": [
        "4. Если требуется изменять исходные данные, то лучше это делать путем создания нового столбца и работать далее с ним, чтобы не наделать неверных выводов"
      ]
    },
    {
      "cell_type": "markdown",
      "metadata": {
        "id": "wMZv-qawORLl"
      },
      "source": [
        "5. Столбец Unnamed: 0 в датасете указывает, что данные были сохранены с указанием индекса, чтобы он снова им стал, можно использовать параметр index_col=0"
      ]
    },
    {
      "cell_type": "markdown",
      "metadata": {
        "id": "oqY8hPpqSxza"
      },
      "source": [
        "6. Метод dt.month - возвращает номер месяца в году и если у нас будут данные за несколько лет, то может случится путаница. Корректнее будет использовать дату 1 числа, например, использовать astype('datetime64[M]')"
      ]
    },
    {
      "cell_type": "markdown",
      "metadata": {
        "id": "vGgD-bAuXLL1"
      },
      "source": [
        "7. Значения коэффициента корреляции по модулю менее 0,25 означают, что связи между данными нет, минус при коэффициентах ничего не значит."
      ]
    },
    {
      "cell_type": "markdown",
      "metadata": {
        "id": "1dC8Y9D3Nd2H"
      },
      "source": [
        "<a id='visualization'></a>\n",
        "## Визуализации"
      ]
    },
    {
      "cell_type": "markdown",
      "metadata": {
        "id": "5u9Cn6zkNd-M"
      },
      "source": [
        "1. Сайт с подборкой крутых примеров визуализаций на разных библиотеках:\n",
        "\n",
        "https://python-graph-gallery.com/"
      ]
    },
    {
      "cell_type": "markdown",
      "metadata": {
        "id": "AcCstesTTZWx"
      },
      "source": [
        "2. При выводе двух гистограмм с разным масштабом на графике, чтобы  нивелировать это можно использовать плотность распределения - параметр density=True\n"
      ]
    },
    {
      "cell_type": "code",
      "metadata": {
        "colab": {
          "base_uri": "https://localhost:8080/",
          "height": 282
        },
        "id": "Aw_1e_aQT3Gm",
        "outputId": "dd418de5-ef63-4e6c-e912-2cc4d1696aff"
      },
      "source": [
        "# без плотности\n",
        "f, ax = plt.subplots()\n",
        "map_distr['geo_lat'].plot(kind='hist', bins=20, ax=ax, label='geo_lat', alpha=0.5)\n",
        "map_distr['geo_lon'].plot(kind='hist', bins=20, ax=ax, label='geo_lon', alpha=0.5)"
      ],
      "execution_count": 11,
      "outputs": [
        {
          "output_type": "execute_result",
          "data": {
            "text/plain": [
              "<matplotlib.axes._subplots.AxesSubplot at 0x7fe310078590>"
            ]
          },
          "metadata": {
            "tags": []
          },
          "execution_count": 11
        },
        {
          "output_type": "display_data",
          "data": {
            "image/png": "[encoded data removed]",
            "text/plain": [
              "<Figure size 432x288 with 1 Axes>"
            ]
          },
          "metadata": {
            "tags": [],
            "needs_background": "light"
          }
        }
      ]
    },
    {
      "cell_type": "code",
      "metadata": {
        "colab": {
          "base_uri": "https://localhost:8080/",
          "height": 282
        },
        "id": "0iPrVvsVUYJU",
        "outputId": "d2473b89-08c0-49ac-b7be-ea61c18d171c"
      },
      "source": [
        "# density=True\n",
        "f, ax = plt.subplots()\n",
        "map_distr['geo_lat'].plot(kind='hist', bins=20, ax=ax, label='geo_lat', alpha=0.5, density=True)\n",
        "map_distr['geo_lon'].plot(kind='hist', bins=20, ax=ax, label='geo_lon', alpha=0.5, density=True)"
      ],
      "execution_count": 14,
      "outputs": [
        {
          "output_type": "execute_result",
          "data": {
            "text/plain": [
              "<matplotlib.axes._subplots.AxesSubplot at 0x7fe30f8c7550>"
            ]
          },
          "metadata": {
            "tags": []
          },
          "execution_count": 14
        },
        {
          "output_type": "display_data",
          "data": {
            "image/png": "[encoded data removed]",
            "text/plain": [
              "<Figure size 432x288 with 1 Axes>"
            ]
          },
          "metadata": {
            "tags": [],
            "needs_background": "light"
          }
        }
      ]
    },
    {
      "cell_type": "markdown",
      "metadata": {
        "id": "-4h3RCfYVNIu"
      },
      "source": [
        "2. Одна из важных характеристик типа визуализации данных – то, насколько точно он позволяет раскодировать значения, записанные с помощью геометрических фигур и их свойств. Проводились исследования на эту тему. Оказалось, что точнее всего позволяют считывать значения точечная и столбиковая диаграммы. А именно – сочетание длины столбика с его расположением относительно базовой (общей) линии. Угол, в частности сектор в круговой диаграмме, считывается значительно хуже. Еще расплывчатее показывают значения разные оттенки насыщенности цвета и объемные фигуры и ...передать ощущение части и целого нужно гораздо реже, чем мы думаем. Чаще всего мы хотим сравнить компоненты целого между собой. А это круговая диаграмма делает плохо. Она предлагает нашему мозгу сравнивать либо углы секторов, либо визуальную площадь этих секторов. И то, и другое мозг делает плохо – нам гораздо проще сравнить длину столбиков."
      ]
    },
    {
      "cell_type": "markdown",
      "metadata": {
        "id": "QqjJrrn6KW2b"
      },
      "source": [
        "<a id='best'></a>\n",
        "## Best practices"
      ]
    },
    {
      "cell_type": "markdown",
      "metadata": {
        "id": "mU6NIEQtV0gG"
      },
      "source": [
        "1. Хорошее оформление включает:\n",
        "* Название проекта\n",
        "* Оглавление\n",
        "* Вступление, включающее цель проекта\n",
        "* Импорты и настройки\n",
        "* Основаная часть\n",
        "* Выводы\n",
        "\n"
      ]
    },
    {
      "cell_type": "markdown",
      "metadata": {
        "id": "qznKnz1PKXJ4"
      },
      "source": [
        "2. Принято отделять логически разный код:\n",
        "* импорты библиотек\n",
        "* настройки библиотек\n",
        "* рабочий код\n",
        "\n",
        "Вот что думает PEP8 по вопросу импортов:\n",
        "Импортирование всегда нужно делать сразу после комментариев к модулю и строк документации, перед объявлением глобальных переменных и констант.\n",
        "Группируйте импорты в следующем порядке:\n",
        "- импорты стандартной библиотеки\n",
        "- импорты сторонних библиотек\n",
        "- импорты модулей текущего проекта\n",
        "Вставляйте пустую строку между каждой группой импортов.\n"
      ]
    },
    {
      "cell_type": "markdown",
      "metadata": {
        "id": "pusPcpCBNEdY"
      },
      "source": [
        "3. На графике всегда должны быть подписаны оси, ось Y должна содержать размерность данных (шт., млн. и т.д.). В заголовке рекомендуется указывать за какой период у нас данные.    \n",
        " Оси и заголовок должны быть на одном языке. Все графики в проекте должны быть оформлены единообразно (на одном языке)"
      ]
    },
    {
      "cell_type": "markdown",
      "metadata": {
        "id": "gtGO6nAPMmgf"
      },
      "source": [
        "<a id='refs'></a>\n",
        "## Полезные ссылки"
      ]
    },
    {
      "cell_type": "markdown",
      "metadata": {
        "id": "VOO09ivCMotw"
      },
      "source": [
        "1. Про потенциал для эффективного изменения типов    \n",
        "https://pyprog.pro/data_types.html    \n",
        "https://habr.com/ru/company/ruvds/blog/442516/"
      ]
    },
    {
      "cell_type": "markdown",
      "metadata": {
        "id": "CWayTZGKN2Fw"
      },
      "source": [
        "2. Проблематика вложенных конструкций if-else и как \"по-питонячьи\" принято их решать    \n",
        "https://medium.com/lemon-code/guard-clauses-3bc0cd96a2d3 "
      ]
    },
    {
      "cell_type": "markdown",
      "metadata": {
        "id": "ycOCYg2uWfZr"
      },
      "source": [
        "3. Оформления ноутбуков профессиональных аналитиков\n",
        "https://www.kaggle.com/notebooks/"
      ]
    },
    {
      "cell_type": "markdown",
      "metadata": {
        "id": "wCQQ6B1-Uzjs"
      },
      "source": [
        "<a id='books'></a>\n",
        "## Книги"
      ]
    },
    {
      "cell_type": "markdown",
      "metadata": {
        "id": "ONvm4UCnU46D"
      },
      "source": [
        "1. Александр Богачев <a href=\"https://ru.bookmate.com/books/pfLCYNJM\">Графики, которые убеждают всех</a>"
      ]
    }
  ]
}